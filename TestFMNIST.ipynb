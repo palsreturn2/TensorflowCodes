{
  "nbformat": 4,
  "nbformat_minor": 0,
  "metadata": {
    "colab": {
      "name": "TestFMNIST.ipynb",
      "provenance": [],
      "authorship_tag": "ABX9TyPk93PyDpqOfo5ls0On3CMY",
      "include_colab_link": true
    },
    "kernelspec": {
      "name": "python3",
      "display_name": "Python 3"
    }
  },
  "cells": [
    {
      "cell_type": "markdown",
      "metadata": {
        "id": "view-in-github",
        "colab_type": "text"
      },
      "source": [
        "<a href=\"https://colab.research.google.com/github/palsreturn2/TensorflowCodes/blob/master/TestFMNIST.ipynb\" target=\"_parent\"><img src=\"https://colab.research.google.com/assets/colab-badge.svg\" alt=\"Open In Colab\"/></a>"
      ]
    },
    {
      "cell_type": "code",
      "metadata": {
        "id": "po4cNG__dzDs",
        "colab_type": "code",
        "colab": {
          "base_uri": "https://localhost:8080/",
          "height": 391
        },
        "outputId": "6b0462bc-a6ea-410e-aef8-5f48e0c367dd"
      },
      "source": [
        "import tensorflow as tf\n",
        "import tensorflow_datasets as tfds\n",
        "import numpy as np\n",
        "\n",
        "mnist = tf.keras.datasets.fashion_mnist\n",
        "\n",
        "(x_train, y_train), (x_test, y_test) = mnist.load_data()\n",
        "x_train, x_test = x_train / 255.0, x_test / 255.0\n",
        "x_train = x_train[..., tf.newaxis].astype(\"float32\")\n",
        "x_test = x_test[..., tf.newaxis].astype(\"float32\")\n",
        "\n",
        "\n",
        "model = tf.keras.Sequential()\n",
        "model.add(tf.keras.layers.Conv2D(32,3, activation='relu'))\n",
        "model.add(tf.keras.layers.MaxPool2D(pool_size=(2, 2), strides=None))\n",
        "model.add(tf.keras.layers.Conv2D(16,3, activation = 'relu'))\n",
        "model.add(tf.keras.layers.MaxPool2D(pool_size=(2, 2), strides=None))\n",
        "model.add(tf.keras.layers.Flatten())\n",
        "model.add(tf.keras.layers.Dense(10, activation='softmax'))\n",
        "model.compile(optimizer='adam', loss=tf.keras.losses.SparseCategoricalCrossentropy(from_logits=True), metrics=['accuracy'])\n",
        "\n",
        "\n",
        "model.fit(x_train, y_train, batch_size = 100, epochs = 10)\n",
        "model.evaluate(x_test,  y_test, verbose=2)\n"
      ],
      "execution_count": 3,
      "outputs": [
        {
          "output_type": "stream",
          "text": [
            "Epoch 1/10\n",
            "600/600 [==============================] - 29s 48ms/step - loss: 1.7382 - accuracy: 0.7413\n",
            "Epoch 2/10\n",
            "600/600 [==============================] - 29s 49ms/step - loss: 1.6365 - accuracy: 0.8292\n",
            "Epoch 3/10\n",
            "600/600 [==============================] - 29s 49ms/step - loss: 1.6187 - accuracy: 0.8456\n",
            "Epoch 4/10\n",
            "600/600 [==============================] - 29s 49ms/step - loss: 1.6071 - accuracy: 0.8562\n",
            "Epoch 5/10\n",
            "600/600 [==============================] - 29s 49ms/step - loss: 1.5994 - accuracy: 0.8636\n",
            "Epoch 6/10\n",
            "600/600 [==============================] - 29s 49ms/step - loss: 1.5943 - accuracy: 0.8687\n",
            "Epoch 7/10\n",
            "600/600 [==============================] - 30s 50ms/step - loss: 1.5920 - accuracy: 0.8705\n",
            "Epoch 8/10\n",
            "600/600 [==============================] - 29s 49ms/step - loss: 1.5867 - accuracy: 0.8760\n",
            "Epoch 9/10\n",
            "600/600 [==============================] - 29s 49ms/step - loss: 1.5836 - accuracy: 0.8792\n",
            "Epoch 10/10\n",
            "600/600 [==============================] - 29s 48ms/step - loss: 1.5821 - accuracy: 0.8803\n",
            "313/313 - 2s - loss: 1.5889 - accuracy: 0.8737\n"
          ],
          "name": "stdout"
        },
        {
          "output_type": "execute_result",
          "data": {
            "text/plain": [
              "[1.5889073610305786, 0.8737000226974487]"
            ]
          },
          "metadata": {
            "tags": []
          },
          "execution_count": 3
        }
      ]
    },
    {
      "cell_type": "code",
      "metadata": {
        "id": "wkPrDaObxdwd",
        "colab_type": "code",
        "colab": {}
      },
      "source": [
        ""
      ],
      "execution_count": null,
      "outputs": []
    }
  ]
}